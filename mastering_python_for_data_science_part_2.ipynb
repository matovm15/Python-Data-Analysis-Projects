{
 "cells": [
  {
   "cell_type": "code",
   "execution_count": 1,
   "metadata": {},
   "outputs": [
    {
     "name": "stdout",
     "output_type": "stream",
     "text": [
      "True\n"
     ]
    }
   ],
   "source": [
    "print(\"ses\" in \"Moses\")"
   ]
  },
  {
   "cell_type": "code",
   "execution_count": 2,
   "metadata": {},
   "outputs": [
    {
     "name": "stdout",
     "output_type": "stream",
     "text": [
      "False\n"
     ]
    }
   ],
   "source": [
    "print(\"ses\" not in \"Moses\")"
   ]
  },
  {
   "cell_type": "code",
   "execution_count": 6,
   "metadata": {},
   "outputs": [
    {
     "name": "stdout",
     "output_type": "stream",
     "text": [
      "Enter a number : 2\n",
      "but not greater than 20\n"
     ]
    }
   ],
   "source": [
    "x = int(input(\"Enter a number : \"))\n",
    "if x>10:\n",
    "    print(\"> 10\")\n",
    "    if x>20:\n",
    "        print(\"x > 20 also\")\n",
    "else:\n",
    "    print(\"but not greater than 20\") "
   ]
  },
  {
   "cell_type": "code",
   "execution_count": 9,
   "metadata": {},
   "outputs": [
    {
     "name": "stdout",
     "output_type": "stream",
     "text": [
      "Enter a number : 5\n",
      "but not greater than 20\n"
     ]
    }
   ],
   "source": [
    "x = int(input(\"Enter a number : \"))\n",
    "if x>10 and x<20:\n",
    "    print(\"x is larger than 10 and less than 20\")\n",
    "elif x>10 and x>20:\n",
    "        print(\"x > 20 also larger than 20\")\n",
    "else:\n",
    "    print(\"but not greater than 20\") "
   ]
  },
  {
   "cell_type": "code",
   "execution_count": null,
   "metadata": {},
   "outputs": [],
   "source": [
    "n = int(input('Max number of iterations :'))\n",
    "i = 1\n",
    "m = \"*\"\n",
    "while i < n:\n",
    "    print(m)\n",
    "    i += 1\n",
    "print(\"done\")"
   ]
  },
  {
   "cell_type": "code",
   "execution_count": 5,
   "metadata": {},
   "outputs": [
    {
     "name": "stdout",
     "output_type": "stream",
     "text": [
      "Max number of iterations :40\n",
      "These are even numbers\n",
      "2\n",
      "4\n",
      "6\n",
      "8\n",
      "10\n",
      "12\n",
      "14\n",
      "16\n",
      "18\n",
      "20\n",
      "22\n",
      "24\n",
      "26\n",
      "28\n",
      "30\n",
      "32\n",
      "34\n",
      "36\n",
      "38\n",
      "done\n"
     ]
    }
   ],
   "source": [
    "#Printing Even Numbers\n",
    "n = int(input('Max number of iterations :'))\n",
    "i = 1\n",
    "print('These are even numbers')\n",
    "while i < n:\n",
    "    \n",
    "    if i%2 == 0:\n",
    "       print(i)\n",
    "    else:\n",
    "       pass\n",
    "    i += 1\n",
    "print(\"done\")"
   ]
  },
  {
   "cell_type": "code",
   "execution_count": 6,
   "metadata": {},
   "outputs": [
    {
     "name": "stdout",
     "output_type": "stream",
     "text": [
      "0\n",
      "1\n",
      "2\n",
      "3\n",
      "4\n",
      "done!\n"
     ]
    }
   ],
   "source": [
    "L = []\n",
    "for i in range(5):\n",
    "    print(i)\n",
    "    L.append(i**2)\n",
    "print(\"done!\")"
   ]
  },
  {
   "cell_type": "code",
   "execution_count": 7,
   "metadata": {},
   "outputs": [
    {
     "name": "stdout",
     "output_type": "stream",
     "text": [
      "apple\n",
      "4.9\n",
      "cherry\n",
      "Loop completes it's iterations\n"
     ]
    }
   ],
   "source": [
    "#This is a Set\n",
    "S = {\"apple\",4.9,\"cherry\"}\n",
    "for x in S:\n",
    "    print(x)\n",
    "else: #The for-loop has an else statement\n",
    "    print(\"Loop completes it's iterations\")"
   ]
  },
  {
   "cell_type": "code",
   "execution_count": 8,
   "metadata": {},
   "outputs": [
    {
     "name": "stdout",
     "output_type": "stream",
     "text": [
      "44\n",
      "game\n"
     ]
    }
   ],
   "source": [
    "#This is a Dictionary\n",
    "D = {\"apple\":44,\"cherry\":\"game\"}\n",
    "for x in D:\n",
    "    print(D[x])"
   ]
  },
  {
   "cell_type": "code",
   "execution_count": 12,
   "metadata": {},
   "outputs": [],
   "source": [
    "def addAll(*ars):\n",
    "    s = 0\n",
    "    for x in ars:\n",
    "        s+=x\n",
    "    return s\n"
   ]
  },
  {
   "cell_type": "code",
   "execution_count": 13,
   "metadata": {},
   "outputs": [
    {
     "data": {
      "text/plain": [
       "944"
      ]
     },
     "execution_count": 13,
     "metadata": {},
     "output_type": "execute_result"
    }
   ],
   "source": [
    "addAll(34,454,5,445,6)"
   ]
  },
  {
   "cell_type": "code",
   "execution_count": 14,
   "metadata": {},
   "outputs": [
    {
     "data": {
      "text/plain": [
       "5"
      ]
     },
     "execution_count": 14,
     "metadata": {},
     "output_type": "execute_result"
    }
   ],
   "source": [
    "addAll(2,3)"
   ]
  },
  {
   "cell_type": "code",
   "execution_count": null,
   "metadata": {},
   "outputs": [],
   "source": []
  }
 ],
 "metadata": {
  "kernelspec": {
   "display_name": "Python 3",
   "language": "python",
   "name": "python3"
  },
  "language_info": {
   "codemirror_mode": {
    "name": "ipython",
    "version": 3
   },
   "file_extension": ".py",
   "mimetype": "text/x-python",
   "name": "python",
   "nbconvert_exporter": "python",
   "pygments_lexer": "ipython3",
   "version": "3.7.7"
  }
 },
 "nbformat": 4,
 "nbformat_minor": 4
}

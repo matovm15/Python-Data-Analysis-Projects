{
 "cells": [
  {
   "cell_type": "code",
   "execution_count": null,
   "metadata": {},
   "outputs": [],
   "source": [
    "#### going to the market\n",
    "# leave the house\n",
    "# wear sandles\n",
    "# move towards the get\n",
    "# get out \n",
    "# walk straight on your right\n",
    "# enter the market"
   ]
  },
  {
   "cell_type": "code",
   "execution_count": 8,
   "metadata": {},
   "outputs": [
    {
     "name": "stdout",
     "output_type": "stream",
     "text": [
      "55\n"
     ]
    }
   ],
   "source": [
    "with open(\"mytext.txt\", 'w') as file:\n",
    "    content = file.write(\"I'm coming home\" + '\\n' + \"Tell the world, + '\\n' + I'm coming home\")\n",
    "print(content)"
   ]
  },
  {
   "cell_type": "code",
   "execution_count": 9,
   "metadata": {},
   "outputs": [
    {
     "name": "stdout",
     "output_type": "stream",
     "text": [
      "[\"I'm coming home\\n\", \"Tell the world, + '\\n\", \"' + I'm coming home\"]\n"
     ]
    }
   ],
   "source": [
    "with open(\"mytext.txt\", 'r') as file:\n",
    "     content = file.readlines()\n",
    "print(content)"
   ]
  },
  {
   "cell_type": "code",
   "execution_count": 10,
   "metadata": {},
   "outputs": [
    {
     "name": "stdout",
     "output_type": "stream",
     "text": [
      "I'm coming home\n",
      "\n"
     ]
    }
   ],
   "source": [
    "print(content[0])"
   ]
  },
  {
   "cell_type": "code",
   "execution_count": 28,
   "metadata": {},
   "outputs": [],
   "source": [
    "with open(\"mytext.txt\", 'a') as file:\n",
    "    content = file.write(\"Read your Bible everyday\" + \"\\n\")\n",
    "\n",
    "\n",
    "    "
   ]
  },
  {
   "cell_type": "code",
   "execution_count": 31,
   "metadata": {},
   "outputs": [
    {
     "name": "stdout",
     "output_type": "stream",
     "text": [
      "I'm coming home\n",
      "\n",
      "Tell the world, + '\n",
      "\n",
      "' + I'm coming homeRead your Bible everydayRead your Bible everydayRead your Bible everydayRead your Bible everydayRead your Bible everydayRead your Bible everyday \n",
      "\n",
      "Read your Bible everyday\n",
      "\n",
      "Read your Bible everyday\n",
      "\n"
     ]
    }
   ],
   "source": [
    "with open(\"mytext.txt\", 'r') as file:\n",
    "    content = file.readlines()\n",
    "for i in content:\n",
    "    print(i)"
   ]
  },
  {
   "cell_type": "code",
   "execution_count": null,
   "metadata": {},
   "outputs": [],
   "source": []
  }
 ],
 "metadata": {
  "kernelspec": {
   "display_name": "Python 3",
   "language": "python",
   "name": "python3"
  },
  "language_info": {
   "codemirror_mode": {
    "name": "ipython",
    "version": 3
   },
   "file_extension": ".py",
   "mimetype": "text/x-python",
   "name": "python",
   "nbconvert_exporter": "python",
   "pygments_lexer": "ipython3",
   "version": "3.7.7"
  }
 },
 "nbformat": 4,
 "nbformat_minor": 4
}
